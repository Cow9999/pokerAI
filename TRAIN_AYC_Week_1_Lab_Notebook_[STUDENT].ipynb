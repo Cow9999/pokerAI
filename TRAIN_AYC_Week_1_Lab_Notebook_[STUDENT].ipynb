{
  "nbformat": 4,
  "nbformat_minor": 0,
  "metadata": {
    "colab": {
      "provenance": [],
      "collapsed_sections": [
        "uxrrgBQlFSSS"
      ],
      "include_colab_link": true
    },
    "kernelspec": {
      "name": "python3",
      "display_name": "Python 3"
    },
    "language_info": {
      "name": "python"
    }
  },
  "cells": [
    {
      "cell_type": "markdown",
      "metadata": {
        "id": "view-in-github",
        "colab_type": "text"
      },
      "source": [
        "<a href=\"https://colab.research.google.com/github/Cow9999/pokerAI/blob/main/TRAIN_AYC_Week_1_Lab_Notebook_%5BSTUDENT%5D.ipynb\" target=\"_parent\"><img src=\"https://colab.research.google.com/assets/colab-badge.svg\" alt=\"Open In Colab\"/></a>"
      ]
    },
    {
      "cell_type": "markdown",
      "source": [
        "---\n",
        "# **Lab 1: Python Basics**\n",
        "---\n",
        "\n",
        "\n",
        "### **Description**\n",
        "This lab is designed to provide hands-on practice with Python basics to solidify the foundation upon which we will build our machine learning and data science skills in the coming weeks.\n",
        "\n",
        "\n",
        "<br>\n",
        "\n",
        "### **Lab Structure**\n",
        "**Part 1**: [Print Statements](#p1)\n",
        "\n",
        "**Part 2**: [Variables and Data Types](#p2)\n",
        "\n",
        "**Part 3**: [Arithmetic Operators](#p3)\n",
        "\n",
        "**Part 4**: [Extra Practice](#p4) [optional]\n",
        "\n",
        "\n",
        "\n",
        "<br>\n",
        "\n",
        "### **Learning Objectives**\n",
        " By the end of this lab, we will:\n",
        "* Recognize how information is outputted to the screen.\n",
        "* Recognize that variables are a way to store data.\n",
        "* Recognize the main data types and how to modify them with basic arithmetic operators.\n",
        "\n",
        "\n",
        "<br>\n",
        "\n",
        "\n",
        "### **Resources**\n",
        "* [Python basics Cheat Sheet](https://docs.google.com/document/d/1P3mae56ecUhbi3zq5eCT9T7HamCGEcd3lqqdZvUZAvU/edit?usp=sharing)"
      ],
      "metadata": {
        "id": "rh5I8K12qeQr"
      }
    },
    {
      "cell_type": "markdown",
      "source": [
        "<a name=\"p1\"></a>\n",
        "\n",
        "---\n",
        "## **Part #1: Print Functions**\n",
        "---"
      ],
      "metadata": {
        "id": "Nncig8FoErJz"
      }
    },
    {
      "cell_type": "markdown",
      "source": [
        "### **Problem #1.1**\n",
        "\n",
        "Create a code cell and type: `print(\"Hello!\")`."
      ],
      "metadata": {
        "id": "sicHQHskOR5k"
      }
    },
    {
      "cell_type": "markdown",
      "source": [
        "---\n",
        "### **Problem #1.2**\n",
        "\n",
        "\n",
        "Create a code cell and type: `print(\"Today I learned about the basics of Python programming!\")`."
      ],
      "metadata": {
        "id": "gBznbwzhGVPa"
      }
    },
    {
      "cell_type": "markdown",
      "source": [
        "---\n",
        "\n",
        "### **Now your turn! Try Problems #1.3-1.5 on your own.**\n",
        "\n",
        "---"
      ],
      "metadata": {
        "id": "BaXdKVoFi5Qd"
      }
    },
    {
      "cell_type": "markdown",
      "source": [
        "\n",
        "### **Problem #1.3**\n",
        "\n",
        "\n",
        "Print your favorite color."
      ],
      "metadata": {
        "id": "1FxKXJTnEuW5"
      }
    },
    {
      "cell_type": "code",
      "source": [],
      "metadata": {
        "id": "vESfesyggfLP"
      },
      "execution_count": null,
      "outputs": []
    },
    {
      "cell_type": "markdown",
      "source": [
        "---\n",
        "### **Problem #1.4**\n",
        "\n",
        "\n",
        "Print a sentence that describes what state or country you are from.\n"
      ],
      "metadata": {
        "id": "rGlILc5uFHhr"
      }
    },
    {
      "cell_type": "code",
      "source": [],
      "metadata": {
        "id": "ksGcBOdPFNwh"
      },
      "execution_count": null,
      "outputs": []
    },
    {
      "cell_type": "markdown",
      "source": [
        "---\n",
        "### **Problem #1.5**\n",
        "\n",
        "Print the food you had for breakfast today."
      ],
      "metadata": {
        "id": "uxrrgBQlFSSS"
      }
    },
    {
      "cell_type": "code",
      "source": [],
      "metadata": {
        "id": "-S0HsjPlFZgv"
      },
      "execution_count": null,
      "outputs": []
    },
    {
      "cell_type": "markdown",
      "source": [
        "---\n",
        "### **Problem #1.6**\n",
        "\n",
        "The ability to choose between single quotes and double quotes is useful when trying to print either of these characters. We can use one to print the other.\n"
      ],
      "metadata": {
        "id": "y1zOK6Ii3es6"
      }
    },
    {
      "cell_type": "code",
      "source": [
        "print(\"My cat's name is Charlie.\")\n",
        "\n",
        "print('Charlie said \"meow\".')"
      ],
      "metadata": {
        "colab": {
          "base_uri": "https://localhost:8080/"
        },
        "id": "XtE6o0K13es7",
        "outputId": "582967b2-1739-4371-9487-b02e24acc58a"
      },
      "execution_count": null,
      "outputs": [
        {
          "output_type": "stream",
          "name": "stdout",
          "text": [
            "My cat's name is Charlie.\n",
            "Charlie said \"meow\".\n"
          ]
        }
      ]
    },
    {
      "cell_type": "markdown",
      "source": [
        "---\n",
        "###Back To Lab Slides\n",
        "---\n"
      ],
      "metadata": {
        "id": "6c7e-a7BFd7x"
      }
    },
    {
      "cell_type": "markdown",
      "source": [
        "\n",
        "### **Problem #1.6**\n",
        "\n",
        "\n",
        "Create a code cell and print your favorite number."
      ],
      "metadata": {
        "id": "nCe6tA7tHLIc"
      }
    },
    {
      "cell_type": "markdown",
      "source": [
        "---\n",
        "### **Problem #1.7**\n",
        "\n",
        "\n",
        "Create a code cell and print the sum of 33 and -11."
      ],
      "metadata": {
        "id": "U4eyO4sCHVlb"
      }
    },
    {
      "cell_type": "markdown",
      "source": [
        "---\n",
        "\n",
        "### **Now your turn! Try Problems #1.8-1.11 on your own.**\n",
        "\n",
        "---"
      ],
      "metadata": {
        "id": "pZ07b0dxjr-k"
      }
    },
    {
      "cell_type": "markdown",
      "source": [
        "\n",
        "### **Problem #1.8**\n",
        "\n",
        "\n",
        "Print the number of months in a year."
      ],
      "metadata": {
        "id": "73KBI9U4IAnW"
      }
    },
    {
      "cell_type": "code",
      "source": [],
      "metadata": {
        "id": "zmA7sZEmUJtt"
      },
      "execution_count": null,
      "outputs": []
    },
    {
      "cell_type": "markdown",
      "source": [
        "---\n",
        "### **Problem #1.9**\n",
        "\n",
        "\n",
        "Print the current year."
      ],
      "metadata": {
        "id": "1L9UH0tVIQS3"
      }
    },
    {
      "cell_type": "code",
      "source": [],
      "metadata": {
        "id": "6UcV-z_aULfy"
      },
      "execution_count": null,
      "outputs": []
    },
    {
      "cell_type": "markdown",
      "source": [
        "---\n",
        "### **Problem #1.10**\n",
        "\n",
        "\n",
        "Print today's date in the following format: MDDYYYY."
      ],
      "metadata": {
        "id": "kEWPBjjYIWBY"
      }
    },
    {
      "cell_type": "code",
      "source": [],
      "metadata": {
        "id": "zVu0tbWyUNXK"
      },
      "execution_count": null,
      "outputs": []
    },
    {
      "cell_type": "markdown",
      "source": [
        "---\n",
        "### **Problem #1.11**\n",
        "\n",
        "\n",
        "Print the sum of your age plus the age of your best friend."
      ],
      "metadata": {
        "id": "w5_afO4Qed4Q"
      }
    },
    {
      "cell_type": "markdown",
      "source": [
        "---\n",
        "###Back To Lab Slides\n",
        "---\n"
      ],
      "metadata": {
        "id": "IHoWW-vDIj4k"
      }
    },
    {
      "cell_type": "markdown",
      "source": [
        "<a name=\"p2\"></a>\n",
        "\n",
        "---\n",
        "## **Part #2: Variables & Data Types**\n",
        "---"
      ],
      "metadata": {
        "id": "8ZlKbmO6kmGl"
      }
    },
    {
      "cell_type": "markdown",
      "source": [
        "### **Problem #2.1**\n",
        "\n",
        "\n",
        "Create a variable called `my_name` and assign it to your first name. Print this variable."
      ],
      "metadata": {
        "id": "6tp4GH_pFiXc"
      }
    },
    {
      "cell_type": "code",
      "source": [],
      "metadata": {
        "id": "mRRdH1SnF2ck"
      },
      "execution_count": null,
      "outputs": []
    },
    {
      "cell_type": "markdown",
      "source": [
        "---\n",
        "### **Problem #2.2**\n",
        "\n",
        "Create and name a variable with your favorite number as an integer. Print that variable."
      ],
      "metadata": {
        "id": "GeA492pRF9Et"
      }
    },
    {
      "cell_type": "code",
      "source": [],
      "metadata": {
        "id": "2UIxtgq1GEfP"
      },
      "execution_count": null,
      "outputs": []
    },
    {
      "cell_type": "markdown",
      "source": [
        "---\n",
        "### **Problem #2.3**\n",
        "\n",
        "Create and name a variable with your favorite number as a float. Print that variable."
      ],
      "metadata": {
        "id": "PFzpApaisZj3"
      }
    },
    {
      "cell_type": "code",
      "source": [],
      "metadata": {
        "id": "TJ1lbMmBseNz"
      },
      "execution_count": null,
      "outputs": []
    },
    {
      "cell_type": "markdown",
      "source": [
        "---\n",
        "\n",
        "### **Now your turn! Try Problems #2.4-2.6 on your own.**\n",
        "\n",
        "---\n"
      ],
      "metadata": {
        "id": "jK_9G-b4Thcu"
      }
    },
    {
      "cell_type": "markdown",
      "source": [
        "\n",
        "### **Problem #2.4**\n",
        "\n",
        "\n",
        "\n",
        "Look through the given declarations. Which ones are incorrect?\n",
        "\n",
        "```\n",
        "Var1 = 7\n",
        "VAR5 = 8\n",
        "2var = 92\n",
        "first_last_name = \"james gooding\"\n",
        "Hello! = 0.283\n",
        "variable24 = \"my favorite food is\"\n",
        "str = \"string\"\n",
        "```\n",
        "\n"
      ],
      "metadata": {
        "id": "idKFoy5PGMXj"
      }
    },
    {
      "cell_type": "markdown",
      "source": [
        "---\n",
        "### **Problem #2.5**\n",
        "\n",
        "\n",
        "Create and a name a variable that stores a list of 3 fruits. Print that variable.\n",
        "\n"
      ],
      "metadata": {
        "id": "9spWwdiHrt_o"
      }
    },
    {
      "cell_type": "code",
      "source": [],
      "metadata": {
        "id": "28BdodiAszpO"
      },
      "execution_count": null,
      "outputs": []
    },
    {
      "cell_type": "markdown",
      "source": [
        "---\n",
        "### **Problem #2.6**\n",
        "\n",
        "Create two variables to represent your height, one variable for feet, one for inches. Name your variables appropriately."
      ],
      "metadata": {
        "id": "qCkX0Ndbu099"
      }
    },
    {
      "cell_type": "code",
      "source": [],
      "metadata": {
        "id": "eAck5rdUvJbm"
      },
      "execution_count": null,
      "outputs": []
    },
    {
      "cell_type": "markdown",
      "source": [
        "---\n",
        "###Back To Lab Slides\n",
        "---"
      ],
      "metadata": {
        "id": "zQraW7-mGkcl"
      }
    },
    {
      "cell_type": "markdown",
      "source": [
        "<a name=\"p3\"></a>\n",
        "\n",
        "---\n",
        "## **Part 3: Arithmetic Operators**\n",
        "---"
      ],
      "metadata": {
        "id": "H5MIexSZviqM"
      }
    },
    {
      "cell_type": "markdown",
      "source": [
        "### **Problem #3.1**\n",
        "\n",
        "\n",
        "Print the sum of 3 and 2. Take note of the output."
      ],
      "metadata": {
        "id": "Nkrwij4gSu0h"
      }
    },
    {
      "cell_type": "code",
      "source": [],
      "metadata": {
        "id": "rwGjkCmrT8cp"
      },
      "execution_count": null,
      "outputs": []
    },
    {
      "cell_type": "markdown",
      "source": [
        "---\n",
        "### **Problem #3.2**\n",
        "\n",
        "\n",
        "Print the sum of 7.0 and 2.0. Take note of the output."
      ],
      "metadata": {
        "id": "TMg9xuU4bGXO"
      }
    },
    {
      "cell_type": "code",
      "source": [],
      "metadata": {
        "id": "gxuz6DBtbS4b"
      },
      "execution_count": null,
      "outputs": []
    },
    {
      "cell_type": "markdown",
      "source": [
        "---\n",
        "### **Problem #3.3**\n",
        "\n",
        "\n",
        "What is 23 divided by 2? Print the answer. Take note of the output."
      ],
      "metadata": {
        "id": "AoNyZMOLbHzG"
      }
    },
    {
      "cell_type": "code",
      "source": [],
      "metadata": {
        "id": "2qLvU5ArbX9e"
      },
      "execution_count": null,
      "outputs": []
    },
    {
      "cell_type": "markdown",
      "source": [
        "---\n",
        "### **Problem #3.4**\n",
        "\n",
        "\n",
        "Print the product of 24.0 and 25.4. Take note of the output."
      ],
      "metadata": {
        "id": "MAhg9IhNbIW9"
      }
    },
    {
      "cell_type": "code",
      "source": [],
      "metadata": {
        "id": "vQouy4o_brEN"
      },
      "execution_count": null,
      "outputs": []
    },
    {
      "cell_type": "markdown",
      "source": [
        "---\n",
        "### **Problem #3.5**\n",
        "\n",
        "\n",
        "Create and name a variable `fav_number` with your favorite number as an integer. Multiply the variable by 3 and print the result."
      ],
      "metadata": {
        "id": "EcB4WGxvTKYZ"
      }
    },
    {
      "cell_type": "code",
      "source": [],
      "metadata": {
        "id": "0hNxBDXHUT77"
      },
      "execution_count": null,
      "outputs": []
    },
    {
      "cell_type": "markdown",
      "source": [
        "---\n",
        "\n",
        "### **Now your turn! Try Problems #3.6-3.10 on your own.**\n",
        "\n",
        "---"
      ],
      "metadata": {
        "id": "Ttxn0Y39k4mS"
      }
    },
    {
      "cell_type": "markdown",
      "source": [
        "\n",
        "### **Problem #3.6**\n",
        "\n",
        "\n",
        "You have 2 bananas and 5 apples. How many fruits do you have in total?"
      ],
      "metadata": {
        "id": "1cPGnpbfTdGP"
      }
    },
    {
      "cell_type": "code",
      "source": [
        "bananas = 2\n",
        "apples = 5\n",
        "# COMPL"
      ],
      "metadata": {
        "id": "cUws429IUVhO"
      },
      "execution_count": null,
      "outputs": []
    },
    {
      "cell_type": "markdown",
      "source": [
        "---\n",
        "### **Problem #3.7**\n",
        "\n",
        "\n",
        "You got a 90 on your biology test, and then answered the extra credit question, which gave you an additional 4 points. Calculate and print your final grade.\n",
        "\n"
      ],
      "metadata": {
        "id": "fn83nMUNTmfx"
      }
    },
    {
      "cell_type": "code",
      "source": [
        "original_grade = 90\n",
        "bonus = 4\n",
        "# add code here"
      ],
      "metadata": {
        "id": "FMtsQNH0UXsB"
      },
      "execution_count": null,
      "outputs": []
    },
    {
      "cell_type": "markdown",
      "source": [
        "---\n",
        "### **Problem #3.8**\n",
        "\n",
        "\n",
        "The length and width of a rectangle are 5 and 8, respectively. Calculate the area of a rectangle using these variables and print the result."
      ],
      "metadata": {
        "id": "jzGCZY4Vy4wq"
      }
    },
    {
      "cell_type": "code",
      "source": [
        "length = 5\n",
        "width = 8\n",
        "# add code here"
      ],
      "metadata": {
        "id": "W0m-Cu7600R5"
      },
      "execution_count": null,
      "outputs": []
    },
    {
      "cell_type": "markdown",
      "source": [
        "---\n",
        "### **Problem #3.9**\n",
        "\n",
        "\n",
        "Create three variables `num1`, `num2`, and `num3` and assign them the values of 5, 24, and 67, respectively. Then calculate the average of these three numbers."
      ],
      "metadata": {
        "id": "nqFlPpynzsCE"
      }
    },
    {
      "cell_type": "code",
      "source": [],
      "metadata": {
        "id": "xcZdD-_A1nHc"
      },
      "execution_count": null,
      "outputs": []
    },
    {
      "cell_type": "markdown",
      "source": [
        "---\n",
        "### **Problem #3.10**\n",
        "\n",
        "\n",
        "Create a variable named `temperature` and assign a value of 25. Convert the temperature from Celsius to Fahrenheit using the formula (`temperature` * 9/5) + 32 and print the result."
      ],
      "metadata": {
        "id": "YFE22tI8zsJI"
      }
    },
    {
      "cell_type": "code",
      "source": [],
      "metadata": {
        "id": "FsLpVgJN7uXG"
      },
      "execution_count": null,
      "outputs": []
    },
    {
      "cell_type": "markdown",
      "source": [
        "---\n",
        "###Back To Lab Slides\n",
        "---"
      ],
      "metadata": {
        "id": "QC52fy-oT2Wv"
      }
    },
    {
      "cell_type": "markdown",
      "source": [
        "<a name=\"p4\"></a>\n",
        "\n",
        "---\n",
        "## **Part 4: Extra Practice** [OPTIONAL]\n",
        "---"
      ],
      "metadata": {
        "id": "ifCz5BOUJsZG"
      }
    },
    {
      "cell_type": "markdown",
      "source": [
        "### **Problem #4.1**\n",
        "\n",
        "\n",
        "What's wrong with the following declaration?\n",
        "\n",
        "A)\n",
        "```\n",
        "1var = 323.0\n",
        "```\n",
        "B)\n",
        "```\n",
        "month@month = \"July\"\n",
        "```\n",
        "\n",
        "C)\n",
        "```\n",
        "month year = \"july2020\"\n",
        "```"
      ],
      "metadata": {
        "id": "KVG4EcnAFl_D"
      }
    },
    {
      "cell_type": "markdown",
      "source": [
        "---\n",
        "### **Problem #4.2**\n",
        "\n",
        "\n",
        "Create a list named `nums` with values 1, 2, and 3."
      ],
      "metadata": {
        "id": "KJaTpSVBsuAO"
      }
    },
    {
      "cell_type": "code",
      "source": [],
      "metadata": {
        "id": "oNKRJdj1s3LM"
      },
      "execution_count": null,
      "outputs": []
    },
    {
      "cell_type": "markdown",
      "source": [
        "---\n",
        "### **Problem #4.3**\n",
        "\n",
        "\n",
        "Divide 13 by 7. Make sure the answer has decimals."
      ],
      "metadata": {
        "id": "21SvhgGZx9i8"
      }
    },
    {
      "cell_type": "code",
      "source": [],
      "metadata": {
        "id": "JWFKJiJZyvS0"
      },
      "execution_count": null,
      "outputs": []
    },
    {
      "cell_type": "markdown",
      "source": [
        "---\n",
        "### **Problem #4.4**\n",
        "\n",
        "\n",
        "Starting with the code below, reassign the variable, `candybar`, to \"Milkyway.\" Check to make sure it worked."
      ],
      "metadata": {
        "id": "8_PhufOasfz6"
      }
    },
    {
      "cell_type": "code",
      "source": [
        "candybar = \"Snickers\"\n",
        "# add code here"
      ],
      "metadata": {
        "id": "iiuPR05DtmTz"
      },
      "execution_count": null,
      "outputs": []
    },
    {
      "cell_type": "markdown",
      "source": [
        "---\n",
        "### **Problem #4.5**\n",
        "\n",
        "\n",
        "Using the code below, what will print when you `print(bananas)`? Why?\n",
        "\n",
        "```\n",
        "bananas = 4\n",
        "apples = 3\n",
        "oranges = banana\n",
        "bananas = 8\n",
        "print(bananas)\n",
        "```"
      ],
      "metadata": {
        "id": "CwVZnyLVJzUK"
      }
    },
    {
      "cell_type": "markdown",
      "source": [
        "---\n",
        "### **Problem #4.6**\n",
        "\n",
        "\n",
        "Name a variable `name` and assign it your name. Then change the value to your instructor's name."
      ],
      "metadata": {
        "id": "haFKT9ykFGnT"
      }
    },
    {
      "cell_type": "code",
      "source": [],
      "metadata": {
        "id": "zgK-yT__vafM"
      },
      "execution_count": null,
      "outputs": []
    },
    {
      "cell_type": "markdown",
      "source": [
        "---\n",
        "### **Problem #4.7**\n",
        "\n",
        "\n",
        "Create a list named 'grocery_list' and add 5 items. Print the list."
      ],
      "metadata": {
        "id": "Gv3521gxaoSd"
      }
    },
    {
      "cell_type": "code",
      "source": [],
      "metadata": {
        "id": "2w6oV7LTbTpH"
      },
      "execution_count": null,
      "outputs": []
    },
    {
      "cell_type": "markdown",
      "source": [
        "---\n",
        "### **Problem #4.8**\n",
        "\n",
        "\n",
        "What are the following data types?\n",
        "\n",
        "```\n",
        "4323\n",
        "\n",
        "\"word\"\n",
        "\n",
        "[4.0, 25.4, 192.0]\n",
        "\n",
        "[\"apples\", \"bananas\", \"oranges\"]\n",
        "\n",
        "-1.231\n",
        "```"
      ],
      "metadata": {
        "id": "NSImpFSvtABU"
      }
    },
    {
      "cell_type": "markdown",
      "source": [
        "---\n",
        "### **Problem #4.9**\n",
        "\n",
        "\n",
        "Create a list called `capitals` and list 5 U.S. State capitals.\n",
        "\n",
        "Print the list."
      ],
      "metadata": {
        "id": "fnbDhhBdaDGQ"
      }
    },
    {
      "cell_type": "code",
      "source": [],
      "metadata": {
        "id": "tbK8zwjYaAHf"
      },
      "execution_count": null,
      "outputs": []
    },
    {
      "cell_type": "markdown",
      "source": [
        "---\n",
        "### **Problem #4.10**\n",
        "\n",
        "\n",
        "Your plant grew 5.3 inches in 10 days. Create a variable `height` and assign it to value 5.3. Create a variable `days` and assign it to value 10. Assuming your plant grew the same amount everyday, how much did it grow each day?"
      ],
      "metadata": {
        "id": "CAOsjIOJEwZr"
      }
    },
    {
      "cell_type": "code",
      "source": [],
      "metadata": {
        "id": "M93r7YoBsy0s"
      },
      "execution_count": null,
      "outputs": []
    },
    {
      "cell_type": "markdown",
      "source": [
        "---\n",
        "### **Problem #4.11**\n",
        "\n",
        "\n",
        "Jake has 5 bags of coins. Each bag has 18 coins in it. How many coins in total does Jake have? Create variables `bags` and `coins` and print their product: `total`.\n"
      ],
      "metadata": {
        "id": "UHeue490wHt_"
      }
    },
    {
      "cell_type": "code",
      "source": [],
      "metadata": {
        "id": "TMvP1YBuxWLI"
      },
      "execution_count": null,
      "outputs": []
    },
    {
      "cell_type": "markdown",
      "source": [
        "---\n",
        "#End of notebook\n",
        "\n",
        "© 2024 The Coding School, All rights reserved"
      ],
      "metadata": {
        "id": "Q2wvzsccqNCk"
      }
    }
  ]
}