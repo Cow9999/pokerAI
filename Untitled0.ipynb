{
  "nbformat": 4,
  "nbformat_minor": 0,
  "metadata": {
    "colab": {
      "provenance": [],
      "authorship_tag": "ABX9TyM66r+Q+cJnzi5W/r59/9G/",
      "include_colab_link": true
    },
    "kernelspec": {
      "name": "python3",
      "display_name": "Python 3"
    },
    "language_info": {
      "name": "python"
    }
  },
  "cells": [
    {
      "cell_type": "markdown",
      "metadata": {
        "id": "view-in-github",
        "colab_type": "text"
      },
      "source": [
        "<a href=\"https://colab.research.google.com/github/Cow9999/pokerAI/blob/main/Untitled0.ipynb\" target=\"_parent\"><img src=\"https://colab.research.google.com/assets/colab-badge.svg\" alt=\"Open In Colab\"/></a>"
      ]
    },
    {
      "cell_type": "code",
      "execution_count": 2,
      "metadata": {
        "id": "8pqAo_iU6p99",
        "colab": {
          "base_uri": "https://localhost:8080/"
        },
        "outputId": "54dcd0f4-cc9f-4a2b-ea0c-b5f675972416"
      },
      "outputs": [
        {
          "output_type": "stream",
          "name": "stdout",
          "text": [
            "  % Total    % Received % Xferd  Average Speed   Time    Time     Time  Current\n",
            "                                 Dload  Upload   Total   Spent    Left  Speed\n",
            "100   155  100   155    0     0    568      0 --:--:-- --:--:-- --:--:--   569\n",
            "fix-colab-gpu.sh: line 5: nvcc: command not found\n"
          ]
        }
      ],
      "source": [
        "> jdk.jshell@12.0.1\n",
        "git clone https://github.com/frankfliu/IJava.git\n",
        "cd IJava/\n",
        "./gradlew installKernel\n",
        "git clone https://github.com/deepjavalibrary/d2l-java\n",
        "cd d2l-java"
      ]
    }
  ]
}